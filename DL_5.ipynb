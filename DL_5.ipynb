{
 "cells": [
  {
   "cell_type": "markdown",
   "metadata": {
    "id": "i_GcJlVrDgBk"
   },
   "source": [
    "**Assignment 5: Implement the Continuous Bag of Words (CBOW) Model**<br>"
   ]
  },
  {
   "cell_type": "code",
   "execution_count": 16,
   "metadata": {
    "id": "V51q50EbF-T9"
   },
   "outputs": [],
   "source": [
    "#importing libraries\n",
    "from keras.preprocessing import text\n",
    "from keras.preprocessing import sequence\n",
    "from keras.utils import pad_sequences\n",
    "from keras.utils import to_categorical\n",
    "import numpy as np\n",
    "import pandas as pd"
   ]
  },
  {
   "cell_type": "code",
   "execution_count": 17,
   "metadata": {
    "id": "wBUwYdBJElVz"
   },
   "outputs": [],
   "source": [
    "#taking random sentences as data\n",
    "data = \"\"\"Deep learning (also known as deep structured learning) is part of a broader family of machine learning methods based on artificial neural networks with representation learning. Learning can be supervised, semi-supervised or unsupervised. \n",
    "Deep-learning architectures such as deep neural networks, deep belief networks, deep reinforcement learning, recurrent neural networks, convolutional neural networks and Transformers have been applied to fields including computer vision, speech recognition, natural language processing, machine translation, bioinformatics, drug design, medical image analysis, climate science, material inspection and board game programs, where they have produced results comparable to and in some cases surpassing human expert performance.\n",
    "\"\"\"\n",
    "dl_data = data.split()"
   ]
  },
  {
   "cell_type": "code",
   "execution_count": 21,
   "metadata": {
    "colab": {
     "base_uri": "https://localhost:8080/"
    },
    "id": "celNk9LmEvm8",
    "outputId": "4e2143b6-92dc-452f-f468-7c9e6238e287"
   },
   "outputs": [
    {
     "name": "stdout",
     "output_type": "stream",
     "text": [
      "Vocabulary Size: 75\n",
      "Vocabulary Sample: [('learning', 1), ('deep', 2), ('networks', 3), ('neural', 4), ('and', 5), ('as', 6), ('of', 7), ('machine', 8), ('supervised', 9), ('have', 10)]\n"
     ]
    }
   ],
   "source": [
    "#tokenization\n",
    "tokenizer = text.Tokenizer()\n",
    "tokenizer.fit_on_texts(dl_data)\n",
    "word2id = tokenizer.word_index\n",
    "\n",
    "word2id['PAD'] = 0\n",
    "id2word = {v:k for k, v in word2id.items()}\n",
    "wids = [[word2id[w] for w in text.text_to_word_sequence(doc)] for doc in dl_data]\n",
    "\n",
    "vocab_size = len(word2id)\n",
    "embed_size = 100\n",
    "window_size = 2 \n",
    "\n",
    "print('Vocabulary Size:', vocab_size)\n",
    "print('Vocabulary Sample:', list(word2id.items())[:10])"
   ]
  },
  {
   "cell_type": "code",
   "execution_count": 22,
   "metadata": {
    "id": "AAxNYDanInQC"
   },
   "outputs": [],
   "source": [
    "#generating (context word, target/label word) pairs\n",
    "def generate_context_word_pairs(corpus, window_size, vocab_size):\n",
    "    context_length = window_size*2\n",
    "    for words in corpus:\n",
    "        sentence_length = len(words)\n",
    "        for index, word in enumerate(words):\n",
    "            context_words = []\n",
    "            label_word   = []            \n",
    "            start = index - window_size\n",
    "            end = index + window_size + 1\n",
    "            \n",
    "            context_words.append([words[i] \n",
    "                                 for i in range(start, end) \n",
    "                                 if 0 <= i < sentence_length \n",
    "                                 and i != index])\n",
    "            label_word.append(word)\n",
    "\n",
    "            x = pad_sequences(context_words, maxlen=context_length)\n",
    "            y = to_categorical(label_word, vocab_size)\n",
    "            yield (x, y)\n",
    "            \n",
    "i = 0\n",
    "for x, y in generate_context_word_pairs(corpus=wids, window_size=window_size, vocab_size=vocab_size):\n",
    "    if 0 not in x[0]:\n",
    "        # print('Context (X):', [id2word[w] for w in x[0]], '-> Target (Y):', id2word[np.argwhere(y[0])[0][0]])\n",
    "    \n",
    "        if i == 10:\n",
    "            break\n",
    "        i += 1"
   ]
  },
  {
   "cell_type": "code",
   "execution_count": 23,
   "metadata": {
    "colab": {
     "base_uri": "https://localhost:8080/"
    },
    "id": "Rb5dNmoZKZBv",
    "outputId": "b859c07e-6989-420d-b169-8aa0b93ff367"
   },
   "outputs": [
    {
     "name": "stdout",
     "output_type": "stream",
     "text": [
      "Model: \"sequential\"\n",
      "_________________________________________________________________\n",
      " Layer (type)                Output Shape              Param #   \n",
      "=================================================================\n",
      " embedding (Embedding)       (None, 4, 100)            7500      \n",
      "                                                                 \n",
      " lambda (Lambda)             (None, 100)               0         \n",
      "                                                                 \n",
      " dense (Dense)               (None, 75)                7575      \n",
      "                                                                 \n",
      "=================================================================\n",
      "Total params: 15075 (58.89 KB)\n",
      "Trainable params: 15075 (58.89 KB)\n",
      "Non-trainable params: 0 (0.00 Byte)\n",
      "_________________________________________________________________\n",
      "None\n"
     ]
    }
   ],
   "source": [
    "#model building\n",
    "import keras.backend as K\n",
    "from keras.models import Sequential\n",
    "from keras.layers import Dense, Embedding, Lambda\n",
    "\n",
    "cbow = Sequential()\n",
    "cbow.add(Embedding(input_dim=vocab_size, output_dim=embed_size, input_length=window_size*2))\n",
    "cbow.add(Lambda(lambda x: K.mean(x, axis=1), output_shape=(embed_size,)))\n",
    "cbow.add(Dense(vocab_size, activation='softmax'))\n",
    "cbow.compile(loss='categorical_crossentropy', optimizer='rmsprop')\n",
    "\n",
    "print(cbow.summary())\n",
    "\n",
    "# from IPython.display import SVG\n",
    "# from keras.utils.vis_utils import model_to_dot\n",
    "\n",
    "# SVG(model_to_dot(cbow, show_shapes=True, show_layer_names=False, rankdir='TB').create(prog='dot', format='svg'))"
   ]
  },
  {
   "cell_type": "code",
   "execution_count": 24,
   "metadata": {
    "colab": {
     "base_uri": "https://localhost:8080/"
    },
    "id": "xs12C3MDK1q4",
    "outputId": "fe8783b3-0ee1-4286-be40-6713afa14f9c"
   },
   "outputs": [
    {
     "name": "stdout",
     "output_type": "stream",
     "text": [
      "Epoch: 1 \tLoss: 433.5319619178772\n",
      "\n",
      "Epoch: 2 \tLoss: 429.0444164276123\n",
      "\n",
      "Epoch: 3 \tLoss: 425.80569314956665\n",
      "\n",
      "Epoch: 4 \tLoss: 422.77727007865906\n",
      "\n",
      "Epoch: 5 \tLoss: 420.4131803512573\n",
      "\n"
     ]
    }
   ],
   "source": [
    "for epoch in range(1, 6):\n",
    "    loss = 0.\n",
    "    i = 0\n",
    "    for x, y in generate_context_word_pairs(corpus=wids, window_size=window_size, vocab_size=vocab_size):\n",
    "        i += 1\n",
    "        loss += cbow.train_on_batch(x, y)\n",
    "        if i % 100000 == 0:\n",
    "            print('Processed {} (context, word) pairs'.format(i))\n",
    "\n",
    "    print('Epoch:', epoch, '\\tLoss:', loss)\n",
    "    print()"
   ]
  },
  {
   "cell_type": "code",
   "execution_count": 25,
   "metadata": {
    "colab": {
     "base_uri": "https://localhost:8080/",
     "height": 253
    },
    "id": "TZ3_QGKVK6Tj",
    "outputId": "cd9d167a-85a3-4cc9-eccb-faf997526122"
   },
   "outputs": [
    {
     "name": "stdout",
     "output_type": "stream",
     "text": [
      "(74, 100)\n"
     ]
    },
    {
     "data": {
      "text/html": [
       "<div>\n",
       "<style scoped>\n",
       "    .dataframe tbody tr th:only-of-type {\n",
       "        vertical-align: middle;\n",
       "    }\n",
       "\n",
       "    .dataframe tbody tr th {\n",
       "        vertical-align: top;\n",
       "    }\n",
       "\n",
       "    .dataframe thead th {\n",
       "        text-align: right;\n",
       "    }\n",
       "</style>\n",
       "<table border=\"1\" class=\"dataframe\">\n",
       "  <thead>\n",
       "    <tr style=\"text-align: right;\">\n",
       "      <th></th>\n",
       "      <th>0</th>\n",
       "      <th>1</th>\n",
       "      <th>2</th>\n",
       "      <th>3</th>\n",
       "      <th>4</th>\n",
       "      <th>5</th>\n",
       "      <th>6</th>\n",
       "      <th>7</th>\n",
       "      <th>8</th>\n",
       "      <th>9</th>\n",
       "      <th>...</th>\n",
       "      <th>90</th>\n",
       "      <th>91</th>\n",
       "      <th>92</th>\n",
       "      <th>93</th>\n",
       "      <th>94</th>\n",
       "      <th>95</th>\n",
       "      <th>96</th>\n",
       "      <th>97</th>\n",
       "      <th>98</th>\n",
       "      <th>99</th>\n",
       "    </tr>\n",
       "  </thead>\n",
       "  <tbody>\n",
       "    <tr>\n",
       "      <th>deep</th>\n",
       "      <td>0.010236</td>\n",
       "      <td>-0.014718</td>\n",
       "      <td>-0.017367</td>\n",
       "      <td>0.051028</td>\n",
       "      <td>-0.055318</td>\n",
       "      <td>0.053238</td>\n",
       "      <td>0.015739</td>\n",
       "      <td>0.053653</td>\n",
       "      <td>0.050394</td>\n",
       "      <td>-0.055968</td>\n",
       "      <td>...</td>\n",
       "      <td>-0.019789</td>\n",
       "      <td>-0.033275</td>\n",
       "      <td>0.043714</td>\n",
       "      <td>0.024946</td>\n",
       "      <td>-0.036273</td>\n",
       "      <td>0.027503</td>\n",
       "      <td>0.005920</td>\n",
       "      <td>-0.010188</td>\n",
       "      <td>0.020596</td>\n",
       "      <td>0.018836</td>\n",
       "    </tr>\n",
       "    <tr>\n",
       "      <th>networks</th>\n",
       "      <td>0.013002</td>\n",
       "      <td>0.017547</td>\n",
       "      <td>0.016951</td>\n",
       "      <td>-0.054021</td>\n",
       "      <td>0.027710</td>\n",
       "      <td>0.055517</td>\n",
       "      <td>0.026539</td>\n",
       "      <td>-0.023649</td>\n",
       "      <td>-0.038204</td>\n",
       "      <td>-0.061850</td>\n",
       "      <td>...</td>\n",
       "      <td>-0.036741</td>\n",
       "      <td>-0.045371</td>\n",
       "      <td>0.051373</td>\n",
       "      <td>-0.012154</td>\n",
       "      <td>-0.057545</td>\n",
       "      <td>0.057030</td>\n",
       "      <td>0.024810</td>\n",
       "      <td>0.006448</td>\n",
       "      <td>0.062256</td>\n",
       "      <td>-0.016202</td>\n",
       "    </tr>\n",
       "    <tr>\n",
       "      <th>neural</th>\n",
       "      <td>-0.049649</td>\n",
       "      <td>0.016377</td>\n",
       "      <td>0.005974</td>\n",
       "      <td>-0.027049</td>\n",
       "      <td>-0.033837</td>\n",
       "      <td>0.022071</td>\n",
       "      <td>0.009944</td>\n",
       "      <td>0.005405</td>\n",
       "      <td>-0.033170</td>\n",
       "      <td>0.000204</td>\n",
       "      <td>...</td>\n",
       "      <td>-0.049686</td>\n",
       "      <td>0.043111</td>\n",
       "      <td>-0.016015</td>\n",
       "      <td>-0.034047</td>\n",
       "      <td>0.011011</td>\n",
       "      <td>-0.006975</td>\n",
       "      <td>0.045579</td>\n",
       "      <td>0.047037</td>\n",
       "      <td>0.019804</td>\n",
       "      <td>-0.004000</td>\n",
       "    </tr>\n",
       "    <tr>\n",
       "      <th>and</th>\n",
       "      <td>0.020027</td>\n",
       "      <td>-0.029732</td>\n",
       "      <td>0.012941</td>\n",
       "      <td>-0.039660</td>\n",
       "      <td>-0.031756</td>\n",
       "      <td>0.020008</td>\n",
       "      <td>-0.023311</td>\n",
       "      <td>0.019079</td>\n",
       "      <td>0.035040</td>\n",
       "      <td>-0.007919</td>\n",
       "      <td>...</td>\n",
       "      <td>-0.033251</td>\n",
       "      <td>0.006119</td>\n",
       "      <td>-0.028949</td>\n",
       "      <td>0.020212</td>\n",
       "      <td>-0.020402</td>\n",
       "      <td>0.006276</td>\n",
       "      <td>0.011499</td>\n",
       "      <td>-0.036632</td>\n",
       "      <td>0.014684</td>\n",
       "      <td>0.010953</td>\n",
       "    </tr>\n",
       "    <tr>\n",
       "      <th>as</th>\n",
       "      <td>0.015381</td>\n",
       "      <td>0.037713</td>\n",
       "      <td>-0.019091</td>\n",
       "      <td>-0.004361</td>\n",
       "      <td>-0.039286</td>\n",
       "      <td>0.020763</td>\n",
       "      <td>-0.026642</td>\n",
       "      <td>0.015704</td>\n",
       "      <td>0.049398</td>\n",
       "      <td>0.010367</td>\n",
       "      <td>...</td>\n",
       "      <td>-0.037329</td>\n",
       "      <td>-0.002897</td>\n",
       "      <td>0.016118</td>\n",
       "      <td>0.013369</td>\n",
       "      <td>-0.006254</td>\n",
       "      <td>-0.016110</td>\n",
       "      <td>0.011030</td>\n",
       "      <td>-0.006557</td>\n",
       "      <td>-0.011940</td>\n",
       "      <td>0.033259</td>\n",
       "    </tr>\n",
       "  </tbody>\n",
       "</table>\n",
       "<p>5 rows × 100 columns</p>\n",
       "</div>"
      ],
      "text/plain": [
       "                0         1         2         3         4         5   \\\n",
       "deep      0.010236 -0.014718 -0.017367  0.051028 -0.055318  0.053238   \n",
       "networks  0.013002  0.017547  0.016951 -0.054021  0.027710  0.055517   \n",
       "neural   -0.049649  0.016377  0.005974 -0.027049 -0.033837  0.022071   \n",
       "and       0.020027 -0.029732  0.012941 -0.039660 -0.031756  0.020008   \n",
       "as        0.015381  0.037713 -0.019091 -0.004361 -0.039286  0.020763   \n",
       "\n",
       "                6         7         8         9   ...        90        91  \\\n",
       "deep      0.015739  0.053653  0.050394 -0.055968  ... -0.019789 -0.033275   \n",
       "networks  0.026539 -0.023649 -0.038204 -0.061850  ... -0.036741 -0.045371   \n",
       "neural    0.009944  0.005405 -0.033170  0.000204  ... -0.049686  0.043111   \n",
       "and      -0.023311  0.019079  0.035040 -0.007919  ... -0.033251  0.006119   \n",
       "as       -0.026642  0.015704  0.049398  0.010367  ... -0.037329 -0.002897   \n",
       "\n",
       "                92        93        94        95        96        97  \\\n",
       "deep      0.043714  0.024946 -0.036273  0.027503  0.005920 -0.010188   \n",
       "networks  0.051373 -0.012154 -0.057545  0.057030  0.024810  0.006448   \n",
       "neural   -0.016015 -0.034047  0.011011 -0.006975  0.045579  0.047037   \n",
       "and      -0.028949  0.020212 -0.020402  0.006276  0.011499 -0.036632   \n",
       "as        0.016118  0.013369 -0.006254 -0.016110  0.011030 -0.006557   \n",
       "\n",
       "                98        99  \n",
       "deep      0.020596  0.018836  \n",
       "networks  0.062256 -0.016202  \n",
       "neural    0.019804 -0.004000  \n",
       "and       0.014684  0.010953  \n",
       "as       -0.011940  0.033259  \n",
       "\n",
       "[5 rows x 100 columns]"
      ]
     },
     "execution_count": 25,
     "metadata": {},
     "output_type": "execute_result"
    }
   ],
   "source": [
    "weights = cbow.get_weights()[0]\n",
    "weights = weights[1:]\n",
    "print(weights.shape)\n",
    "\n",
    "pd.DataFrame(weights, index=list(id2word.values())[1:]).head()"
   ]
  },
  {
   "cell_type": "code",
   "execution_count": 29,
   "metadata": {
    "colab": {
     "base_uri": "https://localhost:8080/"
    },
    "id": "UFs2IAn_LAYS",
    "outputId": "87ae1249-6a80-484f-b4a2-4d5f20734db7"
   },
   "outputs": [
    {
     "name": "stdout",
     "output_type": "stream",
     "text": [
      "(74, 74)\n"
     ]
    },
    {
     "data": {
      "text/plain": [
       "{'deep': ['performance', 'such', 'learning', 'belief', 'vision']}"
      ]
     },
     "execution_count": 29,
     "metadata": {},
     "output_type": "execute_result"
    }
   ],
   "source": [
    "from sklearn.metrics.pairwise import euclidean_distances\n",
    "\n",
    "distance_matrix = euclidean_distances(weights)\n",
    "print(distance_matrix.shape)\n",
    "\n",
    "similar_words = {search_term: [id2word[idx] for idx in distance_matrix[word2id[search_term]-1].argsort()[1:6]+1] \n",
    "                   for search_term in ['deep']}\n",
    "\n",
    "similar_words"
   ]
  }
 ],
 "metadata": {
  "colab": {
   "collapsed_sections": [],
   "provenance": []
  },
  "kernelspec": {
   "display_name": "Python 3 (ipykernel)",
   "language": "python",
   "name": "python3"
  },
  "language_info": {
   "codemirror_mode": {
    "name": "ipython",
    "version": 3
   },
   "file_extension": ".py",
   "mimetype": "text/x-python",
   "name": "python",
   "nbconvert_exporter": "python",
   "pygments_lexer": "ipython3",
   "version": "3.9.13"
  }
 },
 "nbformat": 4,
 "nbformat_minor": 1
}
